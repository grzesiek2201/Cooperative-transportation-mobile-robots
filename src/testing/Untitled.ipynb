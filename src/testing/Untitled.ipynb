{
 "cells": [
  {
   "cell_type": "code",
   "execution_count": 29,
   "id": "d2127d46",
   "metadata": {},
   "outputs": [],
   "source": [
    "import numpy as np\n",
    "import matplotlib.pyplot as plt"
   ]
  },
  {
   "cell_type": "code",
   "execution_count": 2,
   "id": "a62868d7",
   "metadata": {},
   "outputs": [],
   "source": [
    "A = np.array([[np.cos(1), np.sin(1)], [np.sin(1), -np.cos(1)]])"
   ]
  },
  {
   "cell_type": "code",
   "execution_count": 50,
   "id": "73b230f3",
   "metadata": {},
   "outputs": [],
   "source": [
    "def ellipse(xy, a, b):\n",
    "    return (xy[0]/a)**2+(xy[1]/b)**2"
   ]
  },
  {
   "cell_type": "code",
   "execution_count": 80,
   "id": "a208e626",
   "metadata": {},
   "outputs": [],
   "source": [
    "def wlpn(x, s, p, h, k, a):\n",
    "    return np.power(np.abs((x[0] - h)*np.cos(a)+(x[1]-k)*np.sin(a)) / s[0], p) +\\\n",
    "    np.power(np.abs((x[0] - h)*np.sin(a)-(x[1]-k)*np.cos(a)) / s[1], p)"
   ]
  },
  {
   "cell_type": "code",
   "execution_count": 74,
   "id": "ecd4fd1c",
   "metadata": {},
   "outputs": [],
   "source": [
    "RESOLUTION = (200, 200)\n",
    "XY_RANGE = [[-5., 5.], [-5., 5.]]\n",
    "S = np.array([2, 1])\n",
    "P = 20\n",
    "POINT_SIZE = 2\n",
    "R = .5\n",
    "E = 0.01\n",
    "a = 3\n",
    "b = 3"
   ]
  },
  {
   "cell_type": "code",
   "execution_count": 75,
   "id": "2ef2363f",
   "metadata": {},
   "outputs": [],
   "source": [
    "X = np.linspace(XY_RANGE[0][0], XY_RANGE[0][1], RESOLUTION[0])\n",
    "Y = np.linspace(XY_RANGE[1][0], XY_RANGE[1][1], RESOLUTION[1])\n",
    "xx, yy = np.meshgrid(X, Y)\n",
    "XY = np.stack((xx.ravel(), yy.ravel()), axis=1)"
   ]
  },
  {
   "cell_type": "code",
   "execution_count": 89,
   "id": "c995c2ab",
   "metadata": {
    "scrolled": true
   },
   "outputs": [],
   "source": [
    "# result = np.array([xy for xy in XY if ellipse(xy, a, b) - 1 > 0]).reshape(-1, 2)\n",
    "result = np.array([xy for xy in XY if ellipse2(xy, S, P, 1, 2, 1) - 1 > 0]).reshape(-1, 2)"
   ]
  },
  {
   "cell_type": "code",
   "execution_count": 90,
   "id": "b40d42ac",
   "metadata": {},
   "outputs": [
    {
     "data": {
      "image/png": "[encoded data removed]",
      "text/plain": [
       "<Figure size 504x504 with 1 Axes>"
      ]
     },
     "metadata": {
      "needs_background": "light"
     },
     "output_type": "display_data"
    }
   ],
   "source": [
    "plt.figure(figsize=(7, 7))\n",
    "plt.scatter(result[:, 0], result[:, 1])\n",
    "plt.xlim(XY_RANGE[0][0], XY_RANGE[0][1])\n",
    "plt.ylim(XY_RANGE[1][0], XY_RANGE[1][1])\n",
    "ax = plt.gca()\n",
    "ax.set_aspect('equal', adjustable='box')\n",
    "ax.grid(which='major', color='gray', linestyle='--', linewidth=.22)\n",
    "ax.grid(which='minor', color='gray', linestyle=':', linewidth=.22)"
   ]
  },
  {
   "cell_type": "code",
   "execution_count": null,
   "id": "e39600c5",
   "metadata": {},
   "outputs": [],
   "source": []
  }
 ],
 "metadata": {
  "kernelspec": {
   "display_name": "Python 3 (ipykernel)",
   "language": "python",
   "name": "python3"
  },
  "language_info": {
   "codemirror_mode": {
    "name": "ipython",
    "version": 3
   },
   "file_extension": ".py",
   "mimetype": "text/x-python",
   "name": "python",
   "nbconvert_exporter": "python",
   "pygments_lexer": "ipython3",
   "version": "3.9.6"
  }
 },
 "nbformat": 4,
 "nbformat_minor": 5
}
